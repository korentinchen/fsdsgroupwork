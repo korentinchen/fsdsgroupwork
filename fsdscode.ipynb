{
 "cells": [
  {
   "cell_type": "code",
   "execution_count": 1,
   "id": "597a5f0a-a7ea-4a4e-b2d2-97592b578b99",
   "metadata": {},
   "outputs": [
    {
     "name": "stderr",
     "output_type": "stream",
     "text": [
      "<jemalloc>: MADV_DONTNEED does not work (memset will be used instead)\n",
      "<jemalloc>: (This is the expected behaviour if you are running under QEMU)\n"
     ]
    }
   ],
   "source": [
    "import matplotlib.pyplot as plt\n",
    "import numpy as np\n",
    "import pandas as pd\n",
    "\n",
    "import statsmodels.formula.api as smf\n",
    "import statsmodels"
   ]
  },
  {
   "cell_type": "markdown",
   "id": "54e7289f-e6e4-4845-8a93-fa3a9b359877",
   "metadata": {},
   "source": [
    "# read in data"
   ]
  },
  {
   "cell_type": "code",
   "execution_count": null,
   "id": "a27158d8-30ff-44fa-bc64-52626c9617c2",
   "metadata": {},
   "outputs": [],
   "source": [
    "airbnb_origin2022 = pd.read_csv('listings.csv')\n",
    "airbnb_origin2022.info() #check data type, the first three columns are redundant information.\n",
    "airbnb_origin2022.head()"
   ]
  },
  {
   "cell_type": "markdown",
   "id": "9bd70cea-5d91-4000-b8ce-a4c8d8d0a52c",
   "metadata": {},
   "source": [
    "# clean names"
   ]
  },
  {
   "cell_type": "code",
   "execution_count": 4,
   "id": "e6c6a7fa-5e15-4b35-b920-ca52d47596fe",
   "metadata": {},
   "outputs": [],
   "source": [
    "# This function will clean up column names in a data frame\n",
    "# credit by https://gist.github.com/burkesquires/75aeebf4554e9fa427d14354d7fe048c\n",
    "def clean_dataframe_column_names(df):\n",
    "    cols = df.columns\n",
    "    new_column_names = []\n",
    "\n",
    "    for col in cols:\n",
    "        new_col = col.lstrip().rstrip().lower().replace (\" \", \"_\") #strip beginning spaces, makes lowercase, add underscore\n",
    "        new_column_names.append(new_col)\n",
    "\n",
    "    df.columns = new_column_names"
   ]
  },
  {
   "cell_type": "code",
   "execution_count": 5,
   "id": "9bbd5671-0e21-46e4-b017-d4abe36d157c",
   "metadata": {},
   "outputs": [],
   "source": [
    "clean_dataframe_column_names(airbnb_origin2022)"
   ]
  },
  {
   "cell_type": "code",
   "execution_count": null,
   "id": "1d198fb9-5bff-49c5-91fe-fb5a93ede592",
   "metadata": {},
   "outputs": [],
   "source": [
    "airbnb2022 = airbnb_origin2022[['New Code','Borough','Names','Local, Small or Pocket Park','District Park',\n",
    "             'Metropolitan Park','Regional Park',\n",
    "             '% homes with deficiency in access to nature2012',\n",
    "             '% area that is greenspace2012','median price2012']\n",
    "         ]\n",
    "#rename the columns (orginal is too complex)\n",
    "cols = airbnb2022.columns.values\n",
    "cols[3] = 'Local'\n",
    "cols[4] = 'District'\n",
    "cols[5] = 'Metropolitan'\n",
    "cols[6] = 'Regional'\n",
    "cols[7] = 'deficiency'\n",
    "cols[8] = 'area'\n",
    "cols[9] = 'Median_House_Price'\n",
    "airbnb2022.columns = cols"
   ]
  }
 ],
 "metadata": {
  "kernelspec": {
   "display_name": "Python 3 (ipykernel)",
   "language": "python",
   "name": "python3"
  },
  "language_info": {
   "codemirror_mode": {
    "name": "ipython",
    "version": 3
   },
   "file_extension": ".py",
   "mimetype": "text/x-python",
   "name": "python",
   "nbconvert_exporter": "python",
   "pygments_lexer": "ipython3",
   "version": "3.10.5"
  }
 },
 "nbformat": 4,
 "nbformat_minor": 5
}
