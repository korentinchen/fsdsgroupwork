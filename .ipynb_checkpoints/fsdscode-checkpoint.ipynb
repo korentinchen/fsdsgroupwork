{
 "cells": [
  {
   "cell_type": "code",
   "execution_count": 101,
   "id": "597a5f0a-a7ea-4a4e-b2d2-97592b578b99",
   "metadata": {
    "tags": []
   },
   "outputs": [],
   "source": [
    "import numpy as np\n",
    "import pandas as pd\n",
    "import statsmodels.formula.api as smf\n",
    "import statsmodels\n",
    "import geopandas as gpd\n",
    "import seaborn as sns\n",
    "import matplotlib.pyplot as plt\n",
    "import matplotlib.cm as cm\n",
    "import requests\n",
    "import zipfile\n",
    "import re\n",
    "import os\n",
    "import pickle as pk\n",
    "\n",
    "from io import BytesIO, StringIO\n",
    "from os.path import join as pj\n",
    "from pathlib import Path\n",
    "import matplotlib as mpl\n",
    "from matplotlib.colors import ListedColormap\n",
    "\n",
    "import sklearn\n",
    "from sklearn.neighbors import NearestNeighbors\n",
    "from sklearn.manifold import TSNE\n",
    "from sklearn.decomposition import PCA\n",
    "from sklearn.preprocessing import PowerTransformer, RobustScaler, StandardScaler\n",
    "from sklearn.cluster import KMeans, DBSCAN, OPTICS\n",
    "from esda.adbscan import ADBSCAN\n",
    "\n",
    "import random\n",
    "random.seed(42)    # For reproducibility\n",
    "np.random.seed(42) # For reproducibility\n"
   ]
  },
  {
   "cell_type": "markdown",
   "id": "54e7289f-e6e4-4845-8a93-fa3a9b359877",
   "metadata": {},
   "source": [
    "# read in data"
   ]
  },
  {
   "cell_type": "code",
   "execution_count": 102,
   "id": "a27158d8-30ff-44fa-bc64-52626c9617c2",
   "metadata": {},
   "outputs": [],
   "source": [
    "airbnb_origin2022 = pd.read_csv('listings.csv')\n",
    "#airbnb_origin2022.info() #check data type, the first three columns are redundant information."
   ]
  },
  {
   "cell_type": "markdown",
   "id": "9bd70cea-5d91-4000-b8ce-a4c8d8d0a52c",
   "metadata": {},
   "source": [
    "# clean names"
   ]
  },
  {
   "cell_type": "code",
   "execution_count": 71,
   "id": "e6c6a7fa-5e15-4b35-b920-ca52d47596fe",
   "metadata": {},
   "outputs": [],
   "source": [
    "# This function will clean up column names in a data frame\n",
    "# credit by https://gist.github.com/burkesquires/75aeebf4554e9fa427d14354d7fe048c\n",
    "def clean_dataframe_column_names(df):\n",
    "    cols = df.columns\n",
    "    new_column_names = []\n",
    "\n",
    "    for col in cols:\n",
    "        new_col = col.lstrip().rstrip().lower().replace (\" \", \"_\") #strip beginning spaces, makes lowercase, add underscore\n",
    "        new_column_names.append(new_col)\n",
    "\n",
    "    df.columns = new_column_names"
   ]
  },
  {
   "cell_type": "code",
   "execution_count": 72,
   "id": "9bbd5671-0e21-46e4-b017-d4abe36d157c",
   "metadata": {},
   "outputs": [],
   "source": [
    "clean_dataframe_column_names(airbnb_origin2022)"
   ]
  },
  {
   "cell_type": "code",
   "execution_count": 75,
   "id": "1d198fb9-5bff-49c5-91fe-fb5a93ede592",
   "metadata": {},
   "outputs": [],
   "source": [
    "airbnb2022 = airbnb_origin2022[['id','host_id','host_listings_count','latitude','longitude','room_type','availability_365','neighbourhood_cleansed','price']\n",
    "         ]\n",
    "#rename the columns (orginal is too complex)\n",
    "cols = airbnb2022.columns.values\n",
    "airbnb2022.columns = cols"
   ]
  },
  {
   "cell_type": "code",
   "execution_count": 76,
   "id": "7c1d875a-a03d-4864-8e0d-97b1f0c2746c",
   "metadata": {},
   "outputs": [
    {
     "name": "stdout",
     "output_type": "stream",
     "text": [
      "<class 'pandas.core.frame.DataFrame'>\n",
      "RangeIndex: 69351 entries, 0 to 69350\n",
      "Data columns (total 9 columns):\n",
      " #   Column                  Non-Null Count  Dtype  \n",
      "---  ------                  --------------  -----  \n",
      " 0   id                      69351 non-null  int64  \n",
      " 1   host_id                 69351 non-null  int64  \n",
      " 2   host_listings_count     69346 non-null  float64\n",
      " 3   latitude                69351 non-null  float64\n",
      " 4   longitude               69351 non-null  float64\n",
      " 5   room_type               69351 non-null  object \n",
      " 6   availability_365        69351 non-null  int64  \n",
      " 7   neighbourhood_cleansed  69351 non-null  object \n",
      " 8   price                   69351 non-null  object \n",
      "dtypes: float64(3), int64(3), object(3)\n",
      "memory usage: 4.8+ MB\n"
     ]
    }
   ],
   "source": [
    "airbnb2022\n",
    "airbnb2022.info()"
   ]
  },
  {
   "cell_type": "markdown",
   "id": "7cdf08c6-20bb-4847-a3c6-81bbb87c1a9f",
   "metadata": {},
   "source": [
    "# select professional"
   ]
  },
  {
   "cell_type": "code",
   "execution_count": 96,
   "id": "acad1aa0-d989-4d8a-8311-11968551955b",
   "metadata": {},
   "outputs": [
    {
     "name": "stdout",
     "output_type": "stream",
     "text": [
      "<class 'pandas.core.frame.DataFrame'>\n",
      "Int64Index: 34680 entries, 0 to 69350\n",
      "Data columns (total 9 columns):\n",
      " #   Column                  Non-Null Count  Dtype  \n",
      "---  ------                  --------------  -----  \n",
      " 0   id                      34680 non-null  int64  \n",
      " 1   host_id                 34680 non-null  int64  \n",
      " 2   host_listings_count     34680 non-null  float64\n",
      " 3   latitude                34680 non-null  float64\n",
      " 4   longitude               34680 non-null  float64\n",
      " 5   room_type               34680 non-null  object \n",
      " 6   availability_365        34680 non-null  int64  \n",
      " 7   neighbourhood_cleansed  34680 non-null  object \n",
      " 8   price                   34680 non-null  object \n",
      "dtypes: float64(3), int64(3), object(3)\n",
      "memory usage: 2.6+ MB\n"
     ]
    }
   ],
   "source": [
    "airbnbprof2022 = airbnb2022[airbnb2022['host_listings_count']>1 ]\n",
    "airbnbprof2022.info()"
   ]
  },
  {
   "cell_type": "code",
   "execution_count": 78,
   "id": "84aa452e-53fb-45bb-9cce-b8e248f0fa79",
   "metadata": {},
   "outputs": [],
   "source": [
    "hostprof=airbnbprof2022.groupby(['host_id'])"
   ]
  },
  {
   "cell_type": "code",
   "execution_count": 79,
   "id": "50ea1c4d-8827-4ebb-a947-766bcacdca55",
   "metadata": {},
   "outputs": [
    {
     "data": {
      "text/plain": [
       "host_id\n",
       "4775          7\n",
       "6774          4\n",
       "10115         3\n",
       "10657         2\n",
       "11431         2\n",
       "             ..\n",
       "478119106     2\n",
       "478119652     4\n",
       "478388494     7\n",
       "478521110    10\n",
       "478532050     2\n",
       "Length: 10563, dtype: int64"
      ]
     },
     "execution_count": 79,
     "metadata": {},
     "output_type": "execute_result"
    }
   ],
   "source": [
    "hostprof.size()"
   ]
  },
  {
   "cell_type": "code",
   "execution_count": 80,
   "id": "eaeb9516-f9a7-46ef-a6de-221bf1d47c33",
   "metadata": {},
   "outputs": [
    {
     "data": {
      "text/plain": [
       "host_id\n",
       "4775         7\n",
       "4879         1\n",
       "5653         1\n",
       "6774         4\n",
       "9323         1\n",
       "            ..\n",
       "478781847    1\n",
       "478786396    1\n",
       "478789726    1\n",
       "478807343    1\n",
       "478853993    1\n",
       "Length: 45229, dtype: int64"
      ]
     },
     "execution_count": 80,
     "metadata": {},
     "output_type": "execute_result"
    }
   ],
   "source": [
    "host=airbnb2022.groupby(['host_id'])\n",
    "host.size()"
   ]
  },
  {
   "cell_type": "markdown",
   "id": "927d17e1-33c8-4994-8184-85dc4126c4cb",
   "metadata": {},
   "source": [
    "# aggregating Listings by ward"
   ]
  },
  {
   "cell_type": "code",
   "execution_count": 91,
   "id": "53c6528c-cf57-45de-a844-aa986b4cdd30",
   "metadata": {},
   "outputs": [],
   "source": [
    "import shapefile"
   ]
  },
  {
   "cell_type": "code",
   "execution_count": 104,
   "id": "62e7c3c4-00a8-4301-aeb7-e3d502e25886",
   "metadata": {},
   "outputs": [
    {
     "data": {
      "text/html": [
       "<div>\n",
       "<style scoped>\n",
       "    .dataframe tbody tr th:only-of-type {\n",
       "        vertical-align: middle;\n",
       "    }\n",
       "\n",
       "    .dataframe tbody tr th {\n",
       "        vertical-align: top;\n",
       "    }\n",
       "\n",
       "    .dataframe thead th {\n",
       "        text-align: right;\n",
       "    }\n",
       "</style>\n",
       "<table border=\"1\" class=\"dataframe\">\n",
       "  <thead>\n",
       "    <tr style=\"text-align: right;\">\n",
       "      <th></th>\n",
       "      <th>NAME</th>\n",
       "      <th>GSS_CODE</th>\n",
       "      <th>HECTARES</th>\n",
       "      <th>NONLD_AREA</th>\n",
       "      <th>LB_GSS_CD</th>\n",
       "      <th>BOROUGH</th>\n",
       "      <th>POLY_ID</th>\n",
       "      <th>geometry</th>\n",
       "    </tr>\n",
       "  </thead>\n",
       "  <tbody>\n",
       "    <tr>\n",
       "      <th>0</th>\n",
       "      <td>Chessington South</td>\n",
       "      <td>E05000405</td>\n",
       "      <td>755.173</td>\n",
       "      <td>0.000</td>\n",
       "      <td>E09000021</td>\n",
       "      <td>Kingston upon Thames</td>\n",
       "      <td>50840</td>\n",
       "      <td>MULTIPOLYGON (((516401.600 160201.800, 516407....</td>\n",
       "    </tr>\n",
       "    <tr>\n",
       "      <th>1</th>\n",
       "      <td>Tolworth and Hook Rise</td>\n",
       "      <td>E05000414</td>\n",
       "      <td>259.464</td>\n",
       "      <td>0.000</td>\n",
       "      <td>E09000021</td>\n",
       "      <td>Kingston upon Thames</td>\n",
       "      <td>117160</td>\n",
       "      <td>MULTIPOLYGON (((517829.600 165447.100, 517837....</td>\n",
       "    </tr>\n",
       "    <tr>\n",
       "      <th>2</th>\n",
       "      <td>Berrylands</td>\n",
       "      <td>E05000401</td>\n",
       "      <td>145.390</td>\n",
       "      <td>0.000</td>\n",
       "      <td>E09000021</td>\n",
       "      <td>Kingston upon Thames</td>\n",
       "      <td>50449</td>\n",
       "      <td>MULTIPOLYGON (((518107.500 167303.400, 518114....</td>\n",
       "    </tr>\n",
       "    <tr>\n",
       "      <th>3</th>\n",
       "      <td>Alexandra</td>\n",
       "      <td>E05000400</td>\n",
       "      <td>268.506</td>\n",
       "      <td>0.000</td>\n",
       "      <td>E09000021</td>\n",
       "      <td>Kingston upon Thames</td>\n",
       "      <td>50456</td>\n",
       "      <td>MULTIPOLYGON (((520480.000 166909.800, 520490....</td>\n",
       "    </tr>\n",
       "    <tr>\n",
       "      <th>4</th>\n",
       "      <td>Beverley</td>\n",
       "      <td>E05000402</td>\n",
       "      <td>187.821</td>\n",
       "      <td>0.000</td>\n",
       "      <td>E09000021</td>\n",
       "      <td>Kingston upon Thames</td>\n",
       "      <td>117161</td>\n",
       "      <td>MULTIPOLYGON (((522071.000 168144.900, 522063....</td>\n",
       "    </tr>\n",
       "    <tr>\n",
       "      <th>...</th>\n",
       "      <td>...</td>\n",
       "      <td>...</td>\n",
       "      <td>...</td>\n",
       "      <td>...</td>\n",
       "      <td>...</td>\n",
       "      <td>...</td>\n",
       "      <td>...</td>\n",
       "      <td>...</td>\n",
       "    </tr>\n",
       "    <tr>\n",
       "      <th>620</th>\n",
       "      <td>Whalebone</td>\n",
       "      <td>E05000042</td>\n",
       "      <td>155.399</td>\n",
       "      <td>0.000</td>\n",
       "      <td>E09000002</td>\n",
       "      <td>Barking and Dagenham</td>\n",
       "      <td>117022</td>\n",
       "      <td>MULTIPOLYGON (((549410.700 187450.700, 549391....</td>\n",
       "    </tr>\n",
       "    <tr>\n",
       "      <th>621</th>\n",
       "      <td>Eastbrook</td>\n",
       "      <td>E05000030</td>\n",
       "      <td>345.060</td>\n",
       "      <td>0.000</td>\n",
       "      <td>E09000002</td>\n",
       "      <td>Barking and Dagenham</td>\n",
       "      <td>50856</td>\n",
       "      <td>MULTIPOLYGON (((549991.500 184928.500, 549988....</td>\n",
       "    </tr>\n",
       "    <tr>\n",
       "      <th>622</th>\n",
       "      <td>Chadwell Heath</td>\n",
       "      <td>E05000029</td>\n",
       "      <td>338.422</td>\n",
       "      <td>0.000</td>\n",
       "      <td>E09000002</td>\n",
       "      <td>Barking and Dagenham</td>\n",
       "      <td>117014</td>\n",
       "      <td>MULTIPOLYGON (((547715.200 187914.200, 547712....</td>\n",
       "    </tr>\n",
       "    <tr>\n",
       "      <th>623</th>\n",
       "      <td>Parsloes</td>\n",
       "      <td>E05000037</td>\n",
       "      <td>124.384</td>\n",
       "      <td>0.000</td>\n",
       "      <td>E09000002</td>\n",
       "      <td>Barking and Dagenham</td>\n",
       "      <td>117017</td>\n",
       "      <td>MULTIPOLYGON (((547381.600 185753.600, 547377....</td>\n",
       "    </tr>\n",
       "    <tr>\n",
       "      <th>624</th>\n",
       "      <td>City of London</td>\n",
       "      <td>E09000001</td>\n",
       "      <td>314.943</td>\n",
       "      <td>24.546</td>\n",
       "      <td>E09000001</td>\n",
       "      <td>City of London</td>\n",
       "      <td>122502</td>\n",
       "      <td>MULTIPOLYGON (((531361.300 180691.000, 531313....</td>\n",
       "    </tr>\n",
       "  </tbody>\n",
       "</table>\n",
       "<p>625 rows × 8 columns</p>\n",
       "</div>"
      ],
      "text/plain": [
       "                       NAME   GSS_CODE  HECTARES  NONLD_AREA  LB_GSS_CD  \\\n",
       "0         Chessington South  E05000405   755.173       0.000  E09000021   \n",
       "1    Tolworth and Hook Rise  E05000414   259.464       0.000  E09000021   \n",
       "2                Berrylands  E05000401   145.390       0.000  E09000021   \n",
       "3                 Alexandra  E05000400   268.506       0.000  E09000021   \n",
       "4                  Beverley  E05000402   187.821       0.000  E09000021   \n",
       "..                      ...        ...       ...         ...        ...   \n",
       "620               Whalebone  E05000042   155.399       0.000  E09000002   \n",
       "621               Eastbrook  E05000030   345.060       0.000  E09000002   \n",
       "622          Chadwell Heath  E05000029   338.422       0.000  E09000002   \n",
       "623                Parsloes  E05000037   124.384       0.000  E09000002   \n",
       "624          City of London  E09000001   314.943      24.546  E09000001   \n",
       "\n",
       "                  BOROUGH  POLY_ID  \\\n",
       "0    Kingston upon Thames    50840   \n",
       "1    Kingston upon Thames   117160   \n",
       "2    Kingston upon Thames    50449   \n",
       "3    Kingston upon Thames    50456   \n",
       "4    Kingston upon Thames   117161   \n",
       "..                    ...      ...   \n",
       "620  Barking and Dagenham   117022   \n",
       "621  Barking and Dagenham    50856   \n",
       "622  Barking and Dagenham   117014   \n",
       "623  Barking and Dagenham   117017   \n",
       "624        City of London   122502   \n",
       "\n",
       "                                              geometry  \n",
       "0    MULTIPOLYGON (((516401.600 160201.800, 516407....  \n",
       "1    MULTIPOLYGON (((517829.600 165447.100, 517837....  \n",
       "2    MULTIPOLYGON (((518107.500 167303.400, 518114....  \n",
       "3    MULTIPOLYGON (((520480.000 166909.800, 520490....  \n",
       "4    MULTIPOLYGON (((522071.000 168144.900, 522063....  \n",
       "..                                                 ...  \n",
       "620  MULTIPOLYGON (((549410.700 187450.700, 549391....  \n",
       "621  MULTIPOLYGON (((549991.500 184928.500, 549988....  \n",
       "622  MULTIPOLYGON (((547715.200 187914.200, 547712....  \n",
       "623  MULTIPOLYGON (((547381.600 185753.600, 547377....  \n",
       "624  MULTIPOLYGON (((531361.300 180691.000, 531313....  \n",
       "\n",
       "[625 rows x 8 columns]"
      ]
     },
     "execution_count": 104,
     "metadata": {},
     "output_type": "execute_result"
    }
   ],
   "source": [
    "ward = gpd.read_file(os.path.join('ward.gpkg'), driver='GPKG')\n",
    "ward"
   ]
  },
  {
   "cell_type": "code",
   "execution_count": 99,
   "id": "fd3a89e4-be9f-4183-bac5-bf8c2a884d23",
   "metadata": {},
   "outputs": [],
   "source": [
    "gdf = gpd.GeoDataFrame(airbnbprof2022, \n",
    "      geometry=gpd.points_from_xy(airbnbprof2022['longitude'], airbnbprof2022['latitude'], crs='epsg:4326'))\n",
    "gdf = gdf.to_crs('epsg:27700')"
   ]
  },
  {
   "cell_type": "code",
   "execution_count": 100,
   "id": "31843cbf-0849-4f4b-bbf3-961469ed8c27",
   "metadata": {},
   "outputs": [
    {
     "data": {
      "text/plain": [
       "<AxesSubplot:>"
      ]
     },
     "execution_count": 100,
     "metadata": {},
     "output_type": "execute_result"
    },
    {
     "data": {
      "image/png": "[encoded data removed]",
      "text/plain": [
       "<Figure size 1152x1152 with 1 Axes>"
      ]
     },
     "metadata": {
      "needs_background": "light"
     },
     "output_type": "display_data"
    }
   ],
   "source": [
    "f,ax=plt.subplots(figsize=(16,16))\n",
    "gdf.plot(ax=ax,  legend=True, legend_kwds={'loc':'upper right', 'title':'Recorded Crime Type'})"
   ]
  },
  {
   "cell_type": "code",
   "execution_count": 106,
   "id": "64cbd9ff-3cac-4143-b345-8e874dc663ea",
   "metadata": {},
   "outputs": [
    {
     "name": "stderr",
     "output_type": "stream",
     "text": [
      "/opt/conda/lib/python3.10/site-packages/IPython/core/interactiveshell.py:3338: FutureWarning: The `op` parameter is deprecated and will be removed in a future release. Please use the `predicate` parameter instead.\n",
      "  if await self.run_code(code, result, async_=asy):\n",
      "/tmp/ipykernel_20171/3412994873.py:2: UserWarning: CRS mismatch between the CRS of left geometries and the CRS of right geometries.\n",
      "Use `to_crs()` to reproject one of the input geometries to match the CRS of the other.\n",
      "\n",
      "Left CRS: EPSG:27700\n",
      "Right CRS: PROJCS[\"OSGB 1936 / British National Grid\",GEOGCS[ ...\n",
      "\n",
      "  wl = gpd.sjoin(gdf, ward[['GSS_CODE','geometry']], op='within').drop(columns=\n"
     ]
    },
    {
     "data": {
      "text/html": [
       "<div>\n",
       "<style scoped>\n",
       "    .dataframe tbody tr th:only-of-type {\n",
       "        vertical-align: middle;\n",
       "    }\n",
       "\n",
       "    .dataframe tbody tr th {\n",
       "        vertical-align: top;\n",
       "    }\n",
       "\n",
       "    .dataframe thead th {\n",
       "        text-align: right;\n",
       "    }\n",
       "</style>\n",
       "<table border=\"1\" class=\"dataframe\">\n",
       "  <thead>\n",
       "    <tr style=\"text-align: right;\">\n",
       "      <th></th>\n",
       "      <th>id</th>\n",
       "      <th>host_id</th>\n",
       "      <th>host_listings_count</th>\n",
       "      <th>room_type</th>\n",
       "      <th>availability_365</th>\n",
       "      <th>neighbourhood_cleansed</th>\n",
       "      <th>price</th>\n",
       "      <th>GSS_CODE</th>\n",
       "    </tr>\n",
       "  </thead>\n",
       "  <tbody>\n",
       "    <tr>\n",
       "      <th>0</th>\n",
       "      <td>13913</td>\n",
       "      <td>54730</td>\n",
       "      <td>3.0</td>\n",
       "      <td>Private room</td>\n",
       "      <td>343</td>\n",
       "      <td>Islington</td>\n",
       "      <td>$50.00</td>\n",
       "      <td>E05000381</td>\n",
       "    </tr>\n",
       "    <tr>\n",
       "      <th>210</th>\n",
       "      <td>89870</td>\n",
       "      <td>54730</td>\n",
       "      <td>3.0</td>\n",
       "      <td>Entire home/apt</td>\n",
       "      <td>343</td>\n",
       "      <td>Islington</td>\n",
       "      <td>$145.00</td>\n",
       "      <td>E05000381</td>\n",
       "    </tr>\n",
       "    <tr>\n",
       "      <th>1239</th>\n",
       "      <td>1211331</td>\n",
       "      <td>6614363</td>\n",
       "      <td>3.0</td>\n",
       "      <td>Private room</td>\n",
       "      <td>314</td>\n",
       "      <td>Islington</td>\n",
       "      <td>$51.00</td>\n",
       "      <td>E05000381</td>\n",
       "    </tr>\n",
       "    <tr>\n",
       "      <th>1821</th>\n",
       "      <td>2173226</td>\n",
       "      <td>185201</td>\n",
       "      <td>4.0</td>\n",
       "      <td>Private room</td>\n",
       "      <td>0</td>\n",
       "      <td>Islington</td>\n",
       "      <td>$35.00</td>\n",
       "      <td>E05000381</td>\n",
       "    </tr>\n",
       "    <tr>\n",
       "      <th>1924</th>\n",
       "      <td>2053193</td>\n",
       "      <td>185201</td>\n",
       "      <td>4.0</td>\n",
       "      <td>Private room</td>\n",
       "      <td>0</td>\n",
       "      <td>Islington</td>\n",
       "      <td>$35.00</td>\n",
       "      <td>E05000381</td>\n",
       "    </tr>\n",
       "    <tr>\n",
       "      <th>...</th>\n",
       "      <td>...</td>\n",
       "      <td>...</td>\n",
       "      <td>...</td>\n",
       "      <td>...</td>\n",
       "      <td>...</td>\n",
       "      <td>...</td>\n",
       "      <td>...</td>\n",
       "      <td>...</td>\n",
       "    </tr>\n",
       "    <tr>\n",
       "      <th>56408</th>\n",
       "      <td>598124672880076606</td>\n",
       "      <td>28184118</td>\n",
       "      <td>3.0</td>\n",
       "      <td>Entire home/apt</td>\n",
       "      <td>68</td>\n",
       "      <td>Harrow</td>\n",
       "      <td>$500.00</td>\n",
       "      <td>E05000297</td>\n",
       "    </tr>\n",
       "    <tr>\n",
       "      <th>60921</th>\n",
       "      <td>651883271748870344</td>\n",
       "      <td>462140387</td>\n",
       "      <td>5.0</td>\n",
       "      <td>Private room</td>\n",
       "      <td>0</td>\n",
       "      <td>Harrow</td>\n",
       "      <td>$100.00</td>\n",
       "      <td>E05000297</td>\n",
       "    </tr>\n",
       "    <tr>\n",
       "      <th>58920</th>\n",
       "      <td>631026904518184628</td>\n",
       "      <td>156212093</td>\n",
       "      <td>2.0</td>\n",
       "      <td>Entire home/apt</td>\n",
       "      <td>73</td>\n",
       "      <td>Sutton</td>\n",
       "      <td>$150.00</td>\n",
       "      <td>E05000556</td>\n",
       "    </tr>\n",
       "    <tr>\n",
       "      <th>62799</th>\n",
       "      <td>665959349958547726</td>\n",
       "      <td>156212093</td>\n",
       "      <td>2.0</td>\n",
       "      <td>Private room</td>\n",
       "      <td>222</td>\n",
       "      <td>Sutton</td>\n",
       "      <td>$90.00</td>\n",
       "      <td>E05000556</td>\n",
       "    </tr>\n",
       "    <tr>\n",
       "      <th>68030</th>\n",
       "      <td>706393622437457303</td>\n",
       "      <td>275432341</td>\n",
       "      <td>2.0</td>\n",
       "      <td>Entire home/apt</td>\n",
       "      <td>91</td>\n",
       "      <td>Croydon</td>\n",
       "      <td>$67.00</td>\n",
       "      <td>E05000157</td>\n",
       "    </tr>\n",
       "  </tbody>\n",
       "</table>\n",
       "<p>34351 rows × 8 columns</p>\n",
       "</div>"
      ],
      "text/plain": [
       "                       id    host_id  host_listings_count        room_type  \\\n",
       "0                   13913      54730                  3.0     Private room   \n",
       "210                 89870      54730                  3.0  Entire home/apt   \n",
       "1239              1211331    6614363                  3.0     Private room   \n",
       "1821              2173226     185201                  4.0     Private room   \n",
       "1924              2053193     185201                  4.0     Private room   \n",
       "...                   ...        ...                  ...              ...   \n",
       "56408  598124672880076606   28184118                  3.0  Entire home/apt   \n",
       "60921  651883271748870344  462140387                  5.0     Private room   \n",
       "58920  631026904518184628  156212093                  2.0  Entire home/apt   \n",
       "62799  665959349958547726  156212093                  2.0     Private room   \n",
       "68030  706393622437457303  275432341                  2.0  Entire home/apt   \n",
       "\n",
       "       availability_365 neighbourhood_cleansed    price   GSS_CODE  \n",
       "0                   343              Islington   $50.00  E05000381  \n",
       "210                 343              Islington  $145.00  E05000381  \n",
       "1239                314              Islington   $51.00  E05000381  \n",
       "1821                  0              Islington   $35.00  E05000381  \n",
       "1924                  0              Islington   $35.00  E05000381  \n",
       "...                 ...                    ...      ...        ...  \n",
       "56408                68                 Harrow  $500.00  E05000297  \n",
       "60921                 0                 Harrow  $100.00  E05000297  \n",
       "58920                73                 Sutton  $150.00  E05000556  \n",
       "62799               222                 Sutton   $90.00  E05000556  \n",
       "68030                91                Croydon   $67.00  E05000157  \n",
       "\n",
       "[34351 rows x 8 columns]"
      ]
     },
     "execution_count": 106,
     "metadata": {},
     "output_type": "execute_result"
    }
   ],
   "source": [
    "# wl == Ward Listings\n",
    "wl = gpd.sjoin(gdf, ward[['GSS_CODE','geometry']], op='within').drop(columns=\n",
    "    ['latitude','longitude','index_right','geometry']\n",
    ")\n",
    "\n",
    "wl"
   ]
  },
  {
   "cell_type": "code",
   "execution_count": 107,
   "id": "867b9a3c-0268-47f0-aa06-414cbc69c278",
   "metadata": {},
   "outputs": [],
   "source": [
    "wardprof=wl.groupby(['GSS_CODE'])"
   ]
  },
  {
   "cell_type": "code",
   "execution_count": 108,
   "id": "608c9ce2-1097-46bc-8720-9d02a39df76a",
   "metadata": {},
   "outputs": [
    {
     "data": {
      "text/plain": [
       "GSS_CODE\n",
       "E05000026     17\n",
       "E05000027     14\n",
       "E05000028      9\n",
       "E05000029      7\n",
       "E05000030     13\n",
       "            ... \n",
       "E05000646    128\n",
       "E05000647    278\n",
       "E05000648    110\n",
       "E05000649    902\n",
       "E09000001    321\n",
       "Length: 621, dtype: int64"
      ]
     },
     "execution_count": 108,
     "metadata": {},
     "output_type": "execute_result"
    }
   ],
   "source": [
    "wardprof.size()"
   ]
  },
  {
   "cell_type": "code",
   "execution_count": null,
   "id": "8efca0a5-3586-4134-8e77-1bc171dfab87",
   "metadata": {},
   "outputs": [],
   "source": []
  }
 ],
 "metadata": {
  "kernelspec": {
   "display_name": "Python 3 (ipykernel)",
   "language": "python",
   "name": "python3"
  },
  "language_info": {
   "codemirror_mode": {
    "name": "ipython",
    "version": 3
   },
   "file_extension": ".py",
   "mimetype": "text/x-python",
   "name": "python",
   "nbconvert_exporter": "python",
   "pygments_lexer": "ipython3",
   "version": "3.10.5"
  }
 },
 "nbformat": 4,
 "nbformat_minor": 5
}
